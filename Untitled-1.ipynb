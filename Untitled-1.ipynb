{
 "cells": [
  {
   "cell_type": "markdown",
   "id": "e6624b20",
   "metadata": {},
   "source": [
    "Name: RAJARAMAN RAJAGOPALAN\n",
    "\n",
    "B No: B01149766\n",
    "\n",
    "Email: rrajagopalan@binghamton.edu"
   ]
  },
  {
   "cell_type": "code",
   "execution_count": 1,
   "id": "e2a27203",
   "metadata": {},
   "outputs": [],
   "source": [
    "import math\n",
    "import matplotlib.pyplot as plt\n",
    "from scipy.special import gamma\n",
    "import numpy as np\n",
    "import pandas as pd\n"
   ]
  },
  {
   "cell_type": "markdown",
   "id": "3e6c8773",
   "metadata": {},
   "source": [
    "PART 1: NUMERICAL INVERSION"
   ]
  },
  {
   "cell_type": "code",
   "execution_count": 2,
   "id": "6c2fa2ba",
   "metadata": {},
   "outputs": [],
   "source": [
    "def invert(f,y,d=None,t=1e-7,iter=1000):\n",
    "    if d is None:\n",
    "        a,b=-1.0,1.0\n",
    "        while(f(a)>y):\n",
    "            a*=2\n",
    "        while(f(b)<y):\n",
    "            b*=2\n",
    "    else:\n",
    "        a,b=d\n",
    "    for _ in range(iter):\n",
    "        mid=(a+b)/2\n",
    "        f_mid=f(mid)\n",
    "        if abs(f_mid-y)<t:\n",
    "            return mid\n",
    "        if f_mid<y:\n",
    "            a=mid\n",
    "        else:\n",
    "            b=mid\n",
    "    return (a+b)/2\n",
    "\n"
   ]
  },
  {
   "cell_type": "code",
   "execution_count": 3,
   "id": "94899d51",
   "metadata": {},
   "outputs": [
    {
     "name": "stdout",
     "output_type": "stream",
     "text": [
      "Values of x and f(x) are for f(x)=10\n",
      "x value  1.633506167680025  f(x) value:  9.99999996412957\n"
     ]
    }
   ],
   "source": [
    "def f1(x):\n",
    "    return x*math.exp(x) + x\n",
    "\n",
    "x_val = invert(f1,10)\n",
    "print(\"Values of x and f(x) are for f(x)=10\")\n",
    "print(\"x value \",x_val,\" f(x) value: \",f1(x_val))"
   ]
  },
  {
   "cell_type": "markdown",
   "id": "ccd54230",
   "metadata": {},
   "source": [
    "TESTING GAMMA FUNCTION USING MULTIPLE INPUT VALUES"
   ]
  },
  {
   "cell_type": "code",
   "execution_count": 4,
   "id": "96d506ea",
   "metadata": {},
   "outputs": [
    {
     "name": "stdout",
     "output_type": "stream",
     "text": [
      "Gamma inverse: y=1.000000 -> x=2.000000, gamma(x)=1.000000\n",
      "Gamma inverse: y=2.000000 -> x=3.000000, gamma(x)=2.000000\n",
      "Gamma inverse: y=24.000000 -> x=5.000000, gamma(x)=24.000000\n",
      "Gamma inverse: y=362880.000000 -> x=10.000000, gamma(x)=362880.000000\n"
     ]
    }
   ],
   "source": [
    "def f2(x):\n",
    "    return gamma(x)\n",
    "\n",
    "test_values=[gamma(2),gamma(3),gamma(5),gamma(10)]\n",
    "for y in test_values:\n",
    "    x_val=invert(f2,y,d=(1.5,16))\n",
    "    print(f\"Gamma inverse: y={y:.6f} -> x={x_val:.6f}, gamma(x)={f2(x_val):.6f}\")"
   ]
  },
  {
   "cell_type": "code",
   "execution_count": null,
   "id": "5bd1d50c",
   "metadata": {},
   "outputs": [],
   "source": []
  }
 ],
 "metadata": {
  "kernelspec": {
   "display_name": "Python 3",
   "language": "python",
   "name": "python3"
  },
  "language_info": {
   "codemirror_mode": {
    "name": "ipython",
    "version": 3
   },
   "file_extension": ".py",
   "mimetype": "text/x-python",
   "name": "python",
   "nbconvert_exporter": "python",
   "pygments_lexer": "ipython3",
   "version": "3.13.3"
  }
 },
 "nbformat": 4,
 "nbformat_minor": 5
}
